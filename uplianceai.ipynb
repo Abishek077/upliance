{
  "nbformat": 4,
  "nbformat_minor": 0,
  "metadata": {
    "colab": {
      "provenance": []
    },
    "kernelspec": {
      "name": "python3",
      "display_name": "Python 3"
    },
    "language_info": {
      "name": "python"
    }
  },
  "cells": [
    {
      "cell_type": "code",
      "source": [
        "import pandas as pd\n",
        "import numpy as np\n",
        "import matplotlib.pyplot as plt\n",
        "import seaborn as sns\n",
        "from sklearn.preprocessing import LabelEncoder\n",
        "from sklearn.model_selection import train_test_split"
      ],
      "metadata": {
        "id": "rYUIJdh7meJy"
      },
      "execution_count": 2,
      "outputs": []
    },
    {
      "cell_type": "code",
      "source": [
        "#Load the dataset\n",
        "df = pd.read_excel('/content/Data Analyst Intern Assignment - Excel.xlsx')"
      ],
      "metadata": {
        "id": "nV_FObqLnUGH"
      },
      "execution_count": 3,
      "outputs": []
    },
    {
      "cell_type": "code",
      "source": [
        "#Clean the data by handling missing values\n",
        "df.dropna(inplace=True)"
      ],
      "metadata": {
        "id": "Tnrgk7h5nqJH"
      },
      "execution_count": 4,
      "outputs": []
    },
    {
      "cell_type": "code",
      "source": [
        "#Check for duplicate entries\n",
        "print(f\"Number of duplicated entries: {df.duplicated().sum()}\")"
      ],
      "metadata": {
        "colab": {
          "base_uri": "https://localhost:8080/",
          "height": 0
        },
        "id": "ixfN4Ndfnu2U",
        "outputId": "51a55e80-7442-431c-c940-f5de59d610c8"
      },
      "execution_count": 5,
      "outputs": [
        {
          "output_type": "stream",
          "name": "stdout",
          "text": [
            "Number of duplicated entries: 0\n"
          ]
        }
      ]
    },
    {
      "cell_type": "code",
      "source": [
        "#Encoding categorical variables (if needed)\n",
        "label_encoder = LabelEncoder()"
      ],
      "metadata": {
        "id": "bo9rPa5hpJ3v"
      },
      "execution_count": 6,
      "outputs": []
    },
    {
      "cell_type": "code",
      "source": [
        "#Encoding 'User Name' and 'Favorite Meal' columns\n",
        "df['User Name'] = label_encoder.fit_transform(df['User Name'])\n",
        "df['Favorite Meal'] = label_encoder.fit_transform(df['Favorite Meal'])"
      ],
      "metadata": {
        "id": "Ii_7oVihZNSC"
      },
      "execution_count": 7,
      "outputs": []
    },
    {
      "cell_type": "code",
      "source": [
        "#Check the transformed dataset\n",
        "print(df.head())"
      ],
      "metadata": {
        "colab": {
          "base_uri": "https://localhost:8080/",
          "height": 0
        },
        "id": "5n1j6jiVZQMl",
        "outputId": "dabc6cdf-0678-4780-9afd-3418cdda469b"
      },
      "execution_count": 8,
      "outputs": [
        {
          "output_type": "stream",
          "name": "stdout",
          "text": [
            "  User ID  User Name  Age       Location Registration Date         Phone  \\\n",
            "0    U001          0   28       New York        2023-01-15  123-456-7890   \n",
            "1    U002          1   35    Los Angeles        2023-02-20  987-654-3210   \n",
            "2    U003          2   42        Chicago        2023-03-10  555-123-4567   \n",
            "3    U004          3   27  San Francisco        2023-04-05  444-333-2222   \n",
            "4    U005          4   30        Seattle        2023-05-22  777-888-9999   \n",
            "\n",
            "               Email  Favorite Meal  Total Orders  \n",
            "0    alice@email.com              1            12  \n",
            "1      bob@email.com              2             8  \n",
            "2  charlie@email.com              0            15  \n",
            "3    david@email.com              1            10  \n",
            "4     emma@email.com              2             9  \n"
          ]
        }
      ]
    },
    {
      "cell_type": "code",
      "source": [
        "session_order = df.groupby('User Name').agg({'Favorite Meal': 'count', 'Total Orders': 'sum'}).reset_index()\n",
        "print(session_order.head())\n"
      ],
      "metadata": {
        "colab": {
          "base_uri": "https://localhost:8080/",
          "height": 0
        },
        "id": "Epl2phjDZTOJ",
        "outputId": "3bbc92fa-6c40-4445-baa8-0369ad0a751a"
      },
      "execution_count": 9,
      "outputs": [
        {
          "output_type": "stream",
          "name": "stdout",
          "text": [
            "   User Name  Favorite Meal  Total Orders\n",
            "0          0              1            12\n",
            "1          1              1             8\n",
            "2          2              1            15\n",
            "3          3              1            10\n",
            "4          4              1             9\n"
          ]
        }
      ]
    },
    {
      "cell_type": "code",
      "source": [
        "#Plot the relationship between cooking sessions (Favorite Meal) and total orders placed by users\n",
        "plt.figure(figsize=(10, 6))\n",
        "sns.scatterplot(data=session_order, x='Favorite Meal', y='Total Orders')\n",
        "plt.title('Cooking Sessions vs Total Orders')\n",
        "plt.xlabel('Cooking Sessions (Number of Meals Ordered by User)')\n",
        "plt.ylabel('Total Orders')\n",
        "plt.show()"
      ],
      "metadata": {
        "colab": {
          "base_uri": "https://localhost:8080/",
          "height": 564
        },
        "id": "qSVKx_rqZWcW",
        "outputId": "ce002479-1408-4a9b-865c-03162b537d05"
      },
      "execution_count": 10,
      "outputs": [
        {
          "output_type": "display_data",
          "data": {
            "text/plain": [
              "<Figure size 1000x600 with 1 Axes>"
            ],
            "image/png": "[encoded data removed]"
          },
          "metadata": {}
        }
      ]
    },
    {
      "cell_type": "code",
      "source": [
        "#most popular dishes based on the orders\n",
        "meal_order = df.groupby('Favorite Meal')['Total Orders'].sum().sort_values(ascending=False)"
      ],
      "metadata": {
        "id": "7F_UyrbNZcgT"
      },
      "execution_count": 11,
      "outputs": []
    },
    {
      "cell_type": "code",
      "source": [
        "meal_order.head()"
      ],
      "metadata": {
        "colab": {
          "base_uri": "https://localhost:8080/",
          "height": 209
        },
        "id": "497_bsCpaPx8",
        "outputId": "27f87c09-8ff7-4486-fe6f-86087f3f221a"
      },
      "execution_count": 17,
      "outputs": [
        {
          "output_type": "execute_result",
          "data": {
            "text/plain": [
              "Favorite Meal\n",
              "1    42\n",
              "0    29\n",
              "2    23\n",
              "Name: Total Orders, dtype: int64"
            ],
            "text/html": [
              "<div>\n",
              "<style scoped>\n",
              "    .dataframe tbody tr th:only-of-type {\n",
              "        vertical-align: middle;\n",
              "    }\n",
              "\n",
              "    .dataframe tbody tr th {\n",
              "        vertical-align: top;\n",
              "    }\n",
              "\n",
              "    .dataframe thead th {\n",
              "        text-align: right;\n",
              "    }\n",
              "</style>\n",
              "<table border=\"1\" class=\"dataframe\">\n",
              "  <thead>\n",
              "    <tr style=\"text-align: right;\">\n",
              "      <th></th>\n",
              "      <th>Total Orders</th>\n",
              "    </tr>\n",
              "    <tr>\n",
              "      <th>Favorite Meal</th>\n",
              "      <th></th>\n",
              "    </tr>\n",
              "  </thead>\n",
              "  <tbody>\n",
              "    <tr>\n",
              "      <th>1</th>\n",
              "      <td>42</td>\n",
              "    </tr>\n",
              "    <tr>\n",
              "      <th>0</th>\n",
              "      <td>29</td>\n",
              "    </tr>\n",
              "    <tr>\n",
              "      <th>2</th>\n",
              "      <td>23</td>\n",
              "    </tr>\n",
              "  </tbody>\n",
              "</table>\n",
              "</div><br><label><b>dtype:</b> int64</label>"
            ]
          },
          "metadata": {},
          "execution_count": 17
        }
      ]
    },
    {
      "cell_type": "code",
      "source": [
        "#Plot the most popular meals\n",
        "plt.figure(figsize=(10, 6))\n",
        "sns.barplot(x=meal_order.index, y=meal_order.values)\n",
        "plt.xticks(rotation=90)\n",
        "plt.title('Total Orders by Favorite Meal')\n",
        "plt.xlabel('Favorite Meal')\n",
        "plt.ylabel('Total Orders')\n",
        "plt.show()"
      ],
      "metadata": {
        "colab": {
          "base_uri": "https://localhost:8080/",
          "height": 559
        },
        "id": "rR2glQb5ZhsY",
        "outputId": "dffbbd96-974e-431a-d476-b776560afe37"
      },
      "execution_count": 12,
      "outputs": [
        {
          "output_type": "display_data",
          "data": {
            "text/plain": [
              "<Figure size 1000x600 with 1 Axes>"
            ],
            "image/png": "[encoded data removed]"
          },
          "metadata": {}
        }
      ]
    },
    {
      "cell_type": "code",
      "source": [
        "user_order = selected_columns.groupby('User Name')['Favorite Meal'].sum().sort_values(ascending=False)"
      ],
      "metadata": {
        "id": "4w7PAuweZrqa"
      },
      "execution_count": 18,
      "outputs": []
    },
    {
      "cell_type": "code",
      "source": [
        "user_order.head()"
      ],
      "metadata": {
        "colab": {
          "base_uri": "https://localhost:8080/",
          "height": 272
        },
        "id": "PfOSp1MYZ4vv",
        "outputId": "220a7578-a12f-480b-fd57-41a47060d5d3"
      },
      "execution_count": 19,
      "outputs": [
        {
          "output_type": "execute_result",
          "data": {
            "text/plain": [
              "User Name\n",
              "1    2\n",
              "4    2\n",
              "8    2\n",
              "0    1\n",
              "3    1\n",
              "Name: Favorite Meal, dtype: int64"
            ],
            "text/html": [
              "<div>\n",
              "<style scoped>\n",
              "    .dataframe tbody tr th:only-of-type {\n",
              "        vertical-align: middle;\n",
              "    }\n",
              "\n",
              "    .dataframe tbody tr th {\n",
              "        vertical-align: top;\n",
              "    }\n",
              "\n",
              "    .dataframe thead th {\n",
              "        text-align: right;\n",
              "    }\n",
              "</style>\n",
              "<table border=\"1\" class=\"dataframe\">\n",
              "  <thead>\n",
              "    <tr style=\"text-align: right;\">\n",
              "      <th></th>\n",
              "      <th>Favorite Meal</th>\n",
              "    </tr>\n",
              "    <tr>\n",
              "      <th>User Name</th>\n",
              "      <th></th>\n",
              "    </tr>\n",
              "  </thead>\n",
              "  <tbody>\n",
              "    <tr>\n",
              "      <th>1</th>\n",
              "      <td>2</td>\n",
              "    </tr>\n",
              "    <tr>\n",
              "      <th>4</th>\n",
              "      <td>2</td>\n",
              "    </tr>\n",
              "    <tr>\n",
              "      <th>8</th>\n",
              "      <td>2</td>\n",
              "    </tr>\n",
              "    <tr>\n",
              "      <th>0</th>\n",
              "      <td>1</td>\n",
              "    </tr>\n",
              "    <tr>\n",
              "      <th>3</th>\n",
              "      <td>1</td>\n",
              "    </tr>\n",
              "  </tbody>\n",
              "</table>\n",
              "</div><br><label><b>dtype:</b> int64</label>"
            ]
          },
          "metadata": {},
          "execution_count": 19
        }
      ]
    },
    {
      "cell_type": "code",
      "source": [
        "plt.figure(figsize=(10, 6))\n",
        "sns.histplot(user_order.values, bins=20, kde=True)\n",
        "plt.title('Distribution of Total Orders')\n",
        "plt.xlabel('Total Orders')\n",
        "plt.ylabel('Frequency')\n",
        "plt.show()\n"
      ],
      "metadata": {
        "colab": {
          "base_uri": "https://localhost:8080/",
          "height": 564
        },
        "id": "JDFq2RiMaiN9",
        "outputId": "c7ee3df2-6aff-4a14-bf81-3edbbcf17d50"
      },
      "execution_count": 20,
      "outputs": [
        {
          "output_type": "display_data",
          "data": {
            "text/plain": [
              "<Figure size 1000x600 with 1 Axes>"
            ],
            "image/png": "[encoded data removed]"
          },
          "metadata": {}
        }
      ]
    },
    {
      "cell_type": "code",
      "source": [
        "#Split the data into training and testing sets (80% train, 20% test)\n",
        "X = df[['User Name', 'Favorite Meal']]\n",
        "y = df['Total Orders']"
      ],
      "metadata": {
        "id": "74DW-VGLalUR"
      },
      "execution_count": 21,
      "outputs": []
    },
    {
      "cell_type": "code",
      "source": [
        "X_train, X_test, y_train, y_test = train_test_split(X, y, test_size=0.2, random_state=42)"
      ],
      "metadata": {
        "id": "GBS6LuVIa5md"
      },
      "execution_count": 22,
      "outputs": []
    },
    {
      "cell_type": "code",
      "source": [
        "print(\"X_train shape:\", X_train.shape)\n",
        "print(\"X_test shape:\", X_test.shape)"
      ],
      "metadata": {
        "colab": {
          "base_uri": "https://localhost:8080/",
          "height": 0
        },
        "id": "wIeGvLa0a788",
        "outputId": "4e081ca8-86c3-467a-d990-4fde74d835f3"
      },
      "execution_count": 23,
      "outputs": [
        {
          "output_type": "stream",
          "name": "stdout",
          "text": [
            "X_train shape: (8, 2)\n",
            "X_test shape: (2, 2)\n"
          ]
        }
      ]
    },
    {
      "cell_type": "code",
      "source": [],
      "metadata": {
        "id": "mFtqK8C_a_BE"
      },
      "execution_count": null,
      "outputs": []
    }
  ]
}